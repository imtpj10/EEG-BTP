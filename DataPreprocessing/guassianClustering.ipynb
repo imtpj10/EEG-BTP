{
 "cells": [
  {
   "cell_type": "code",
   "execution_count": 1,
   "metadata": {},
   "outputs": [],
   "source": [
    "import numpy as np \n",
    "import pandas as pd \n",
    "import matplotlib.pyplot as plt \n",
    "from pandas import DataFrame \n",
    "from sklearn.preprocessing import StandardScaler, normalize, MinMaxScaler\n",
    "from sklearn.decomposition import PCA\n",
    "from sklearn.mixture import GaussianMixture \n",
    "from sklearn.metrics import silhouette_score\n",
    "from sklearn.model_selection import train_test_split\n",
    "from sklearn import metrics"
   ]
  },
  {
   "cell_type": "code",
   "execution_count": 2,
   "metadata": {},
   "outputs": [
    {
     "data": {
      "text/plain": [
       "0   -1088.650757\n",
       "1   -1088.488159\n",
       "2   -1088.336426\n",
       "3   -1088.336914\n",
       "4   -1088.652344\n",
       "5   -1089.420410\n",
       "6   -1090.710815\n",
       "7   -1092.499390\n",
       "8   -1094.671753\n",
       "9   -1097.055664\n",
       "Name: fp1, dtype: float64"
      ]
     },
     "execution_count": 2,
     "metadata": {},
     "output_type": "execute_result"
    }
   ],
   "source": [
    "raw_df = pd.read_csv('./new12.csv')\n",
    "raw_df = raw_df['fp1']\n",
    "raw_df.fillna(method ='ffill', inplace = True) \n",
    "raw_df.head(10)"
   ]
  },
  {
   "cell_type": "code",
   "execution_count": null,
   "metadata": {},
   "outputs": [],
   "source": []
  },
  {
   "cell_type": "code",
   "execution_count": 3,
   "metadata": {},
   "outputs": [
    {
     "name": "stdout",
     "output_type": "stream",
     "text": [
      "Produced 11997 waveform segments\n"
     ]
    },
    {
     "data": {
      "text/html": [
       "<div>\n",
       "<style scoped>\n",
       "    .dataframe tbody tr th:only-of-type {\n",
       "        vertical-align: middle;\n",
       "    }\n",
       "\n",
       "    .dataframe tbody tr th {\n",
       "        vertical-align: top;\n",
       "    }\n",
       "\n",
       "    .dataframe thead th {\n",
       "        text-align: right;\n",
       "    }\n",
       "</style>\n",
       "<table border=\"1\" class=\"dataframe\">\n",
       "  <thead>\n",
       "    <tr style=\"text-align: right;\">\n",
       "      <th></th>\n",
       "      <th>0</th>\n",
       "      <th>1</th>\n",
       "      <th>2</th>\n",
       "      <th>3</th>\n",
       "      <th>4</th>\n",
       "      <th>5</th>\n",
       "      <th>6</th>\n",
       "      <th>7</th>\n",
       "      <th>8</th>\n",
       "      <th>9</th>\n",
       "      <th>...</th>\n",
       "      <th>20</th>\n",
       "      <th>21</th>\n",
       "      <th>22</th>\n",
       "      <th>23</th>\n",
       "      <th>24</th>\n",
       "      <th>25</th>\n",
       "      <th>26</th>\n",
       "      <th>27</th>\n",
       "      <th>28</th>\n",
       "      <th>29</th>\n",
       "    </tr>\n",
       "  </thead>\n",
       "  <tbody>\n",
       "    <tr>\n",
       "      <th>0</th>\n",
       "      <td>0.324867</td>\n",
       "      <td>0.325052</td>\n",
       "      <td>0.325021</td>\n",
       "      <td>0.324844</td>\n",
       "      <td>0.324542</td>\n",
       "      <td>0.324561</td>\n",
       "      <td>0.324167</td>\n",
       "      <td>0.323364</td>\n",
       "      <td>0.322321</td>\n",
       "      <td>0.321195</td>\n",
       "      <td>...</td>\n",
       "      <td>0.312176</td>\n",
       "      <td>0.311887</td>\n",
       "      <td>0.311591</td>\n",
       "      <td>0.311360</td>\n",
       "      <td>0.311201</td>\n",
       "      <td>0.311540</td>\n",
       "      <td>0.311600</td>\n",
       "      <td>0.311348</td>\n",
       "      <td>0.310919</td>\n",
       "      <td>0.310442</td>\n",
       "    </tr>\n",
       "    <tr>\n",
       "      <th>1</th>\n",
       "      <td>0.324561</td>\n",
       "      <td>0.324167</td>\n",
       "      <td>0.323364</td>\n",
       "      <td>0.322321</td>\n",
       "      <td>0.321195</td>\n",
       "      <td>0.320557</td>\n",
       "      <td>0.319753</td>\n",
       "      <td>0.318795</td>\n",
       "      <td>0.317792</td>\n",
       "      <td>0.316795</td>\n",
       "      <td>...</td>\n",
       "      <td>0.311540</td>\n",
       "      <td>0.311600</td>\n",
       "      <td>0.311348</td>\n",
       "      <td>0.310919</td>\n",
       "      <td>0.310442</td>\n",
       "      <td>0.310470</td>\n",
       "      <td>0.310313</td>\n",
       "      <td>0.309955</td>\n",
       "      <td>0.309480</td>\n",
       "      <td>0.308927</td>\n",
       "    </tr>\n",
       "    <tr>\n",
       "      <th>2</th>\n",
       "      <td>0.320557</td>\n",
       "      <td>0.319753</td>\n",
       "      <td>0.318795</td>\n",
       "      <td>0.317792</td>\n",
       "      <td>0.316795</td>\n",
       "      <td>0.316273</td>\n",
       "      <td>0.315503</td>\n",
       "      <td>0.314498</td>\n",
       "      <td>0.313433</td>\n",
       "      <td>0.312468</td>\n",
       "      <td>...</td>\n",
       "      <td>0.310470</td>\n",
       "      <td>0.310313</td>\n",
       "      <td>0.309955</td>\n",
       "      <td>0.309480</td>\n",
       "      <td>0.308927</td>\n",
       "      <td>0.308763</td>\n",
       "      <td>0.308259</td>\n",
       "      <td>0.307430</td>\n",
       "      <td>0.306451</td>\n",
       "      <td>0.305484</td>\n",
       "    </tr>\n",
       "    <tr>\n",
       "      <th>3</th>\n",
       "      <td>0.316273</td>\n",
       "      <td>0.315503</td>\n",
       "      <td>0.314498</td>\n",
       "      <td>0.313433</td>\n",
       "      <td>0.312468</td>\n",
       "      <td>0.312176</td>\n",
       "      <td>0.311887</td>\n",
       "      <td>0.311591</td>\n",
       "      <td>0.311360</td>\n",
       "      <td>0.311201</td>\n",
       "      <td>...</td>\n",
       "      <td>0.308763</td>\n",
       "      <td>0.308259</td>\n",
       "      <td>0.307430</td>\n",
       "      <td>0.306451</td>\n",
       "      <td>0.305484</td>\n",
       "      <td>0.305108</td>\n",
       "      <td>0.304649</td>\n",
       "      <td>0.304105</td>\n",
       "      <td>0.303561</td>\n",
       "      <td>0.303049</td>\n",
       "    </tr>\n",
       "    <tr>\n",
       "      <th>4</th>\n",
       "      <td>0.312176</td>\n",
       "      <td>0.311887</td>\n",
       "      <td>0.311591</td>\n",
       "      <td>0.311360</td>\n",
       "      <td>0.311201</td>\n",
       "      <td>0.311540</td>\n",
       "      <td>0.311600</td>\n",
       "      <td>0.311348</td>\n",
       "      <td>0.310919</td>\n",
       "      <td>0.310442</td>\n",
       "      <td>...</td>\n",
       "      <td>0.305108</td>\n",
       "      <td>0.304649</td>\n",
       "      <td>0.304105</td>\n",
       "      <td>0.303561</td>\n",
       "      <td>0.303049</td>\n",
       "      <td>0.303023</td>\n",
       "      <td>0.302716</td>\n",
       "      <td>0.302100</td>\n",
       "      <td>0.301307</td>\n",
       "      <td>0.300471</td>\n",
       "    </tr>\n",
       "  </tbody>\n",
       "</table>\n",
       "<p>5 rows × 30 columns</p>\n",
       "</div>"
      ],
      "text/plain": [
       "         0         1         2         3         4         5         6   \\\n",
       "0  0.324867  0.325052  0.325021  0.324844  0.324542  0.324561  0.324167   \n",
       "1  0.324561  0.324167  0.323364  0.322321  0.321195  0.320557  0.319753   \n",
       "2  0.320557  0.319753  0.318795  0.317792  0.316795  0.316273  0.315503   \n",
       "3  0.316273  0.315503  0.314498  0.313433  0.312468  0.312176  0.311887   \n",
       "4  0.312176  0.311887  0.311591  0.311360  0.311201  0.311540  0.311600   \n",
       "\n",
       "         7         8         9   ...        20        21        22        23  \\\n",
       "0  0.323364  0.322321  0.321195  ...  0.312176  0.311887  0.311591  0.311360   \n",
       "1  0.318795  0.317792  0.316795  ...  0.311540  0.311600  0.311348  0.310919   \n",
       "2  0.314498  0.313433  0.312468  ...  0.310470  0.310313  0.309955  0.309480   \n",
       "3  0.311591  0.311360  0.311201  ...  0.308763  0.308259  0.307430  0.306451   \n",
       "4  0.311348  0.310919  0.310442  ...  0.305108  0.304649  0.304105  0.303561   \n",
       "\n",
       "         24        25        26        27        28        29  \n",
       "0  0.311201  0.311540  0.311600  0.311348  0.310919  0.310442  \n",
       "1  0.310442  0.310470  0.310313  0.309955  0.309480  0.308927  \n",
       "2  0.308927  0.308763  0.308259  0.307430  0.306451  0.305484  \n",
       "3  0.305484  0.305108  0.304649  0.304105  0.303561  0.303049  \n",
       "4  0.303049  0.303023  0.302716  0.302100  0.301307  0.300471  \n",
       "\n",
       "[5 rows x 30 columns]"
      ]
     },
     "execution_count": 3,
     "metadata": {},
     "output_type": "execute_result"
    }
   ],
   "source": [
    "ekg_data_segment = raw_df\n",
    "segment_len = 30\n",
    "slide_len = 5\n",
    "\n",
    "segments = []\n",
    "for start_pos in range(0, len(ekg_data_segment), slide_len):\n",
    "    end_pos = start_pos + segment_len\n",
    "    # make a copy so changes to 'segments' doesn't modify the original ekg_data\n",
    "    segment = np.copy(ekg_data_segment[start_pos:end_pos])\n",
    "    # if we're at the end and we've got a truncated segment, drop it\n",
    "    if len(segment) != segment_len:\n",
    "        continue\n",
    "    segments.append(segment)\n",
    "\n",
    "print(\"Produced %d waveform segments\" % len(segments))\n",
    "\n",
    "\n",
    "\n",
    "# Standardize data\n",
    "scaler = StandardScaler() \n",
    "scaled_df = scaler.fit_transform(segments) \n",
    "\n",
    "# Normalizing the Data \n",
    "scaler= MinMaxScaler()\n",
    "scaler.fit(scaled_df) \n",
    "normalized_df=scaler.transform(scaled_df)\n",
    "#normalized_df = normalize(scaled_df) \n",
    "  \n",
    "\n",
    "\n",
    "\n",
    "# # Converting the numpy array into a pandas DataFrame \n",
    "normalized_df = pd.DataFrame(normalized_df) \n",
    "  \n",
    "normalized_df.head()"
   ]
  },
  {
   "cell_type": "code",
   "execution_count": 4,
   "metadata": {},
   "outputs": [
    {
     "data": {
      "text/html": [
       "<div>\n",
       "<style scoped>\n",
       "    .dataframe tbody tr th:only-of-type {\n",
       "        vertical-align: middle;\n",
       "    }\n",
       "\n",
       "    .dataframe tbody tr th {\n",
       "        vertical-align: top;\n",
       "    }\n",
       "\n",
       "    .dataframe thead th {\n",
       "        text-align: right;\n",
       "    }\n",
       "</style>\n",
       "<table border=\"1\" class=\"dataframe\">\n",
       "  <thead>\n",
       "    <tr style=\"text-align: right;\">\n",
       "      <th></th>\n",
       "      <th>P1</th>\n",
       "      <th>P2</th>\n",
       "    </tr>\n",
       "  </thead>\n",
       "  <tbody>\n",
       "    <tr>\n",
       "      <th>0</th>\n",
       "      <td>2.289321</td>\n",
       "      <td>-0.030754</td>\n",
       "    </tr>\n",
       "    <tr>\n",
       "      <th>1</th>\n",
       "      <td>2.303050</td>\n",
       "      <td>-0.026347</td>\n",
       "    </tr>\n",
       "  </tbody>\n",
       "</table>\n",
       "</div>"
      ],
      "text/plain": [
       "         P1        P2\n",
       "0  2.289321 -0.030754\n",
       "1  2.303050 -0.026347"
      ]
     },
     "execution_count": 4,
     "metadata": {},
     "output_type": "execute_result"
    }
   ],
   "source": [
    "# # Reducing the dimensions of the data \n",
    "pca = PCA(n_components = 2) \n",
    "X_principal = pca.fit_transform(normalized_df) \n",
    "X_principal = pd.DataFrame(X_principal) \n",
    "X_principal.columns = ['P1', 'P2'] \n",
    "  \n",
    "X_principal.head(2)"
   ]
  },
  {
   "cell_type": "code",
   "execution_count": 5,
   "metadata": {},
   "outputs": [
    {
     "data": {
      "text/plain": [
       "GaussianMixture(n_components=3)"
      ]
     },
     "execution_count": 5,
     "metadata": {},
     "output_type": "execute_result"
    }
   ],
   "source": [
    "n_components = 3\n",
    "gmm = GaussianMixture(n_components = n_components) \n",
    "gmm.fit(X_principal)\n"
   ]
  },
  {
   "cell_type": "code",
   "execution_count": 6,
   "metadata": {},
   "outputs": [
    {
     "data": {
      "image/png": "[encoded data removed]",
      "text/plain": [
       "<Figure size 432x288 with 1 Axes>"
      ]
     },
     "metadata": {
      "needs_background": "light"
     },
     "output_type": "display_data"
    }
   ],
   "source": [
    "from matplotlib import colors\n",
    "cmap = colors.LinearSegmentedColormap.from_list(\"\", [\"red\",\"green\",\"blue\",\"yellow\",\"orange\"])\n",
    "\n",
    "# Visualizing the clustering \n",
    "plt.scatter(X_principal['P1'], X_principal['P2'],  \n",
    "           c = GaussianMixture(n_components = n_components).fit_predict(X_principal),cmap=cmap , alpha = 0.6) \n",
    "plt.show()"
   ]
  },
  {
   "cell_type": "code",
   "execution_count": 7,
   "metadata": {},
   "outputs": [
    {
     "name": "stdout",
     "output_type": "stream",
     "text": [
      "2.589024758023967\n",
      "7\n"
     ]
    }
   ],
   "source": [
    "print(gmm.lower_bound_) \n",
    "print(gmm.n_iter_)\n",
    "  "
   ]
  },
  {
   "cell_type": "code",
   "execution_count": null,
   "metadata": {},
   "outputs": [],
   "source": []
  }
 ],
 "metadata": {
  "kernelspec": {
   "display_name": "Python 3",
   "language": "python",
   "name": "python3"
  },
  "language_info": {
   "codemirror_mode": {
    "name": "ipython",
    "version": 3
   },
   "file_extension": ".py",
   "mimetype": "text/x-python",
   "name": "python",
   "nbconvert_exporter": "python",
   "pygments_lexer": "ipython3",
   "version": "3.6.9"
  }
 },
 "nbformat": 4,
 "nbformat_minor": 2
}
